{
 "cells": [
  {
   "cell_type": "code",
   "execution_count": 1,
   "metadata": {},
   "outputs": [],
   "source": [
    "#Distancias de los planetas\n",
    "tierra = 149597870\n",
    "jupiter= 778547200"
   ]
  },
  {
   "cell_type": "code",
   "execution_count": 2,
   "metadata": {},
   "outputs": [
    {
     "name": "stdout",
     "output_type": "stream",
     "text": [
      "628949330\n"
     ]
    }
   ],
   "source": [
    "#Distancia entre Tierra y Jupiter\n",
    "rest = tierra - jupiter\n",
    "print(abs(rest))"
   ]
  },
  {
   "cell_type": "code",
   "execution_count": 3,
   "metadata": {},
   "outputs": [
    {
     "name": "stdout",
     "output_type": "stream",
     "text": [
      "390577534\n"
     ]
    }
   ],
   "source": [
    "#De kilometros a millas\n",
    "Dist_milla = rest*0.621\n",
    "print(abs(round(Dist_milla)))"
   ]
  },
  {
   "cell_type": "markdown",
   "metadata": {},
   "source": [
    "#Ejercicio numero 2"
   ]
  },
  {
   "cell_type": "code",
   "execution_count": 4,
   "metadata": {},
   "outputs": [],
   "source": [
    "planetauno = input(\"¿Cuál es la distancia del primer planeta al sol en KM?\")\n",
    "planetados = input(\"¿Cuál es la distancia del segundo planeta al sol en KM?\")    "
   ]
  },
  {
   "cell_type": "code",
   "execution_count": 5,
   "metadata": {},
   "outputs": [],
   "source": [
    "#covertir de cadena a numeros enteros\n",
    "planetauno = int(planetauno)\n",
    "planetados = int(planetados)"
   ]
  },
  {
   "cell_type": "code",
   "execution_count": 6,
   "metadata": {},
   "outputs": [
    {
     "name": "stdout",
     "output_type": "stream",
     "text": [
      "720700000\n"
     ]
    }
   ],
   "source": [
    "Distancia_km= planetauno-planetados\n",
    "print(abs(Distancia_km))"
   ]
  },
  {
   "cell_type": "code",
   "execution_count": 7,
   "metadata": {},
   "outputs": [
    {
     "name": "stdout",
     "output_type": "stream",
     "text": [
      "447554700\n"
     ]
    }
   ],
   "source": [
    "#De kilometros a millas\n",
    "Distancia_milla = Distancia_km*0.621\n",
    "print(abs(round(Distancia_milla)))"
   ]
  }
 ],
 "metadata": {
  "interpreter": {
   "hash": "163dda9b152cd23f7cd3c8440f7d5a72ccbe24e9464a71d3cc43399bd5f8929f"
  },
  "kernelspec": {
   "display_name": "Python 3.8.6 64-bit",
   "language": "python",
   "name": "python3"
  },
  "language_info": {
   "codemirror_mode": {
    "name": "ipython",
    "version": 3
   },
   "file_extension": ".py",
   "mimetype": "text/x-python",
   "name": "python",
   "nbconvert_exporter": "python",
   "pygments_lexer": "ipython3",
   "version": "3.8.6"
  },
  "orig_nbformat": 4
 },
 "nbformat": 4,
 "nbformat_minor": 2
}
