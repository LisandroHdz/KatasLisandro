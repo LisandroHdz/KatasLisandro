{
 "cells": [
  {
   "cell_type": "code",
   "execution_count": 10,
   "metadata": {},
   "outputs": [],
   "source": [
    "planets = ['Mercury', 'Venus', 'Earth', 'Mars', 'Jupiter', 'Saturn', 'Uranus', 'Neptune']"
   ]
  },
  {
   "cell_type": "code",
   "execution_count": 11,
   "metadata": {},
   "outputs": [
    {
     "name": "stdout",
     "output_type": "stream",
     "text": [
      "The first planet is Mercury\n",
      "The second planet is Venus\n",
      "The third planet is Earth\n"
     ]
    }
   ],
   "source": [
    "print('The first planet is', planets[0])\n",
    "print('The second planet is', planets[1])\n",
    "print('The third planet is', planets[2])"
   ]
  },
  {
   "cell_type": "code",
   "execution_count": 12,
   "metadata": {},
   "outputs": [
    {
     "name": "stdout",
     "output_type": "stream",
     "text": [
      "Los planetas del sistema solar son: 8\n"
     ]
    }
   ],
   "source": [
    "print(\"Los planetas del sistema solar son:\", len(planets))"
   ]
  },
  {
   "cell_type": "code",
   "execution_count": 13,
   "metadata": {},
   "outputs": [
    {
     "name": "stdout",
     "output_type": "stream",
     "text": [
      "pluton es el ultimo planeta del sistema solar\n"
     ]
    }
   ],
   "source": [
    "#agregar a pluton y mostramos el último elemento\n",
    "planets.append(\"pluton\")\n",
    "print(planets[-1], \"es el ultimo planeta del sistema solar\")"
   ]
  },
  {
   "cell_type": "markdown",
   "metadata": {},
   "source": [
    "Ejercicio 2"
   ]
  },
  {
   "cell_type": "code",
   "execution_count": 14,
   "metadata": {},
   "outputs": [],
   "source": [
    "planets = ['Mercury', 'Venus', 'Earth', 'Mars', 'Jupiter', 'Saturn', 'Uranus', 'Neptune']"
   ]
  },
  {
   "cell_type": "code",
   "execution_count": 15,
   "metadata": {},
   "outputs": [],
   "source": [
    "# Solicitamos el nombre de un planeta \n",
    "planeta_usuario = input(\"por favor introduzca el nombre del planeta(con mayuscula la primera letra, porfavor)\")"
   ]
  },
  {
   "cell_type": "code",
   "execution_count": 17,
   "metadata": {},
   "outputs": [],
   "source": [
    "# Busca el planeta en la lista\n",
    "index_planeta = planets.index(planeta_usuario)"
   ]
  },
  {
   "cell_type": "code",
   "execution_count": 19,
   "metadata": {},
   "outputs": [
    {
     "name": "stdout",
     "output_type": "stream",
     "text": [
      "Estos son los platenas mas cercas al sol, antes del planeta Jupiter\n",
      "['Mercury', 'Venus', 'Earth', 'Mars']\n"
     ]
    }
   ],
   "source": [
    "# Muestra los planetas más cercanos al sol\n",
    "print(\"Estos son los platenas mas cercas al sol, antes del planeta \" + planeta_usuario)\n",
    "print(planets[0:index_planeta])"
   ]
  },
  {
   "cell_type": "code",
   "execution_count": 20,
   "metadata": {},
   "outputs": [
    {
     "name": "stdout",
     "output_type": "stream",
     "text": [
      "Estos son los platenas mas lejos al sol, antes del planeta Jupiter\n",
      "['Saturn', 'Uranus', 'Neptune']\n"
     ]
    }
   ],
   "source": [
    "# Muestra los planetas más lejos al sol\n",
    "print(\"Estos son los platenas mas lejos al sol, antes del planeta \" + planeta_usuario)\n",
    "print(planets[index_planeta + 1:])"
   ]
  }
 ],
 "metadata": {
  "interpreter": {
   "hash": "163dda9b152cd23f7cd3c8440f7d5a72ccbe24e9464a71d3cc43399bd5f8929f"
  },
  "kernelspec": {
   "display_name": "Python 3.8.6 64-bit",
   "language": "python",
   "name": "python3"
  },
  "language_info": {
   "codemirror_mode": {
    "name": "ipython",
    "version": 3
   },
   "file_extension": ".py",
   "mimetype": "text/x-python",
   "name": "python",
   "nbconvert_exporter": "python",
   "pygments_lexer": "ipython3",
   "version": "3.8.6"
  },
  "orig_nbformat": 4
 },
 "nbformat": 4,
 "nbformat_minor": 2
}
